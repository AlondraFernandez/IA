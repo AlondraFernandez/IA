{
 "cells": [
  {
   "cell_type": "markdown",
   "id": "c655820e-e28e-48b1-9de6-1d7472d337d2",
   "metadata": {},
   "source": [
    "Problema Elegido: Gestión ineficiente del inventario en pequeñas empresas de comercio electrónico.\r\n",
    "La falta de un sistema de gestión de inventario eficiente puede llevar a varios problemas para las pequeñas empresas de comercio electrónico, como el agotamiento de productos, el exceso de stock, y la dificultad para satisfacer la demanda del cliente. Estos problemas pueden resultar en una mala experiencia para el cliente, pérdida de ventas y, en última instancia, una disminución de la rentabilidad. Mejorar la gestión del inventario es crucial para asegurar que los productos estén disponibles cuando los clientes los necesitan, optimizando así las operaciones y aumentando la satisfacción del cliente\n",
    "Desarrollo de la Propuesta de Solución\r\n",
    "Solución Propuesta: Implementación de un sistema de gestión de inventario automatizado utilizando tecnología de IA y machine learning\n",
    "Se propone desarrollar e implementar un sistema de gestión de inventario que utilice algoritmos de machine learning para predecir la demanda de productos y ajustar los niveles de inventario en consecuencia. Este sistema puede ayudar a las pequeñas empresas a mantener un equilibrio adecuado entre la oferta y la demanda, reducir los costos de almacenamiento y mejorar la disponibilidad de productos..\r\n",
    ".\r\n"
   ]
  },
  {
   "cell_type": "code",
   "execution_count": null,
   "id": "16e2b476-393f-4e1b-8be8-f59e2aef30a8",
   "metadata": {},
   "outputs": [],
   "source": [
    "import openai\n",
    "openai.api_key=\"\""
   ]
  },
  {
   "cell_type": "markdown",
   "id": "877592cf-7772-4879-b80a-f031b0d76531",
   "metadata": {},
   "source": [
    "#Make the context of our prompt envoirement\n",
    " context = \"Desarrollar una página web para una pizzería que permita gestionar el stock de ingredientes en tiempo real con JavaScript. Esto asegura que los clientes siempre sepan la disponibilidad de los productos.\"\n",
    "prompt=\"¿Está disponible el producto [nombre del producto]?\""
   ]
  },
  {
   "cell_type": "code",
   "execution_count": null,
   "id": "c0bf5923-11d1-4b9f-986f-978aa9326fca",
   "metadata": {},
   "outputs": [],
   "source": [
    "# Define el contexto y el prompt\n",
    "context = \"Gestión de stock en una página web de pizzería utilizando JavaScript.\"\n",
    "prompt = \"¿Está disponible el producto queso mozzarella?\"\n",
    "\n",
    "# Crear la conversación\n",
    "conversation = [\n",
    "    {\"role\": \"system\", \"content\": context},\n",
    "    {\"role\": \"user\", \"content\": prompt}\n",
    "]\n",
    "\n",
    "# Realizar la solicitud a la API de OpenAI\n",
    "response = openai.ChatCompletion.create(\n",
    "    model='gpt-3.5-turbo',\n",
    "    messages=conversation,\n",
    "    max_tokens=500,\n",
    "    temperature=0.7\n",
    ")\n",
    "\n",
    "# Acceder al contenido de la respuesta\n",
    "message = response['choices'][0]['message']['content']\n",
    "\n",
    "# Imprimir el resultado\n",
    "print(\"{}: {}\".format(response['choices'][0]['message']['role'], message))"
   ]
  },
  {
   "cell_type": "markdown",
   "id": "973ae22f-cc08-492a-94e4-0ec1088e9404",
   "metadata": {},
   "source": [
    "assistant: El producto queso mozzarella no está disponible. Se espera que esté en stock el 2024-07-25.\r\n"
   ]
  }
 ],
 "metadata": {
  "kernelspec": {
   "display_name": "Python 3 (ipykernel)",
   "language": "python",
   "name": "python3"
  },
  "language_info": {
   "codemirror_mode": {
    "name": "ipython",
    "version": 3
   },
   "file_extension": ".py",
   "mimetype": "text/x-python",
   "name": "python",
   "nbconvert_exporter": "python",
   "pygments_lexer": "ipython3",
   "version": "3.12.4"
  }
 },
 "nbformat": 4,
 "nbformat_minor": 5
}
